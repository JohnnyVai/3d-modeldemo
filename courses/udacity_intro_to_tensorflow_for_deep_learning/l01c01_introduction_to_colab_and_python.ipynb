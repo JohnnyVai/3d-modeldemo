{
  "cells": [
    {
      "cell_type": "markdown",
      "metadata": {
        "id": "view-in-github",
        "colab_type": "text"
      },
      "source": [
        "<a href=\"https://colab.research.google.com/github/JohnnyVai/3d-modeldemo/blob/main/courses/udacity_intro_to_tensorflow_for_deep_learning/l01c01_introduction_to_colab_and_python.ipynb\" target=\"_parent\"><img src=\"https://colab.research.google.com/assets/colab-badge.svg\" alt=\"Open In Colab\"/></a>"
      ]
    },
    {
      "cell_type": "code",
      "source": [
        "!pip install transformers\n"
      ],
      "metadata": {
        "id": "9FMJS1MAU0HO",
        "outputId": "ddbc226d-299d-4a04-8172-f968f51a9e59",
        "colab": {
          "base_uri": "https://localhost:8080/"
        }
      },
      "execution_count": 2,
      "outputs": [
        {
          "output_type": "stream",
          "name": "stdout",
          "text": [
            "Requirement already satisfied: transformers in /usr/local/lib/python3.10/dist-packages (4.47.1)\n",
            "Requirement already satisfied: filelock in /usr/local/lib/python3.10/dist-packages (from transformers) (3.16.1)\n",
            "Requirement already satisfied: huggingface-hub<1.0,>=0.24.0 in /usr/local/lib/python3.10/dist-packages (from transformers) (0.27.0)\n",
            "Requirement already satisfied: numpy>=1.17 in /usr/local/lib/python3.10/dist-packages (from transformers) (1.26.4)\n",
            "Requirement already satisfied: packaging>=20.0 in /usr/local/lib/python3.10/dist-packages (from transformers) (24.2)\n",
            "Requirement already satisfied: pyyaml>=5.1 in /usr/local/lib/python3.10/dist-packages (from transformers) (6.0.2)\n",
            "Requirement already satisfied: regex!=2019.12.17 in /usr/local/lib/python3.10/dist-packages (from transformers) (2024.11.6)\n",
            "Requirement already satisfied: requests in /usr/local/lib/python3.10/dist-packages (from transformers) (2.32.3)\n",
            "Requirement already satisfied: tokenizers<0.22,>=0.21 in /usr/local/lib/python3.10/dist-packages (from transformers) (0.21.0)\n",
            "Requirement already satisfied: safetensors>=0.4.1 in /usr/local/lib/python3.10/dist-packages (from transformers) (0.4.5)\n",
            "Requirement already satisfied: tqdm>=4.27 in /usr/local/lib/python3.10/dist-packages (from transformers) (4.67.1)\n",
            "Requirement already satisfied: fsspec>=2023.5.0 in /usr/local/lib/python3.10/dist-packages (from huggingface-hub<1.0,>=0.24.0->transformers) (2024.10.0)\n",
            "Requirement already satisfied: typing-extensions>=3.7.4.3 in /usr/local/lib/python3.10/dist-packages (from huggingface-hub<1.0,>=0.24.0->transformers) (4.12.2)\n",
            "Requirement already satisfied: charset-normalizer<4,>=2 in /usr/local/lib/python3.10/dist-packages (from requests->transformers) (3.4.0)\n",
            "Requirement already satisfied: idna<4,>=2.5 in /usr/local/lib/python3.10/dist-packages (from requests->transformers) (3.10)\n",
            "Requirement already satisfied: urllib3<3,>=1.21.1 in /usr/local/lib/python3.10/dist-packages (from requests->transformers) (2.2.3)\n",
            "Requirement already satisfied: certifi>=2017.4.17 in /usr/local/lib/python3.10/dist-packages (from requests->transformers) (2024.12.14)\n"
          ]
        }
      ]
    },
    {
      "cell_type": "code",
      "source": [
        "# Install required libraries (for Google Colab)\n",
        "# !pip install transformers torch pyttsx3 speechrecognition pyaudio playsound requests\n",
        "\n",
        "import pyttsx3\n",
        "import speech_recognition as sr\n",
        "import webbrowser\n",
        "from playsound import playsound  # To play sound files\n",
        "from transformers import pipeline\n",
        "\n",
        "# Load Hugging Face text-generation model (GPU support)\n",
        "generator = pipeline(\"text-generation\", model=\"EleutherAI/gpt-neo-125M\", device=0)\n",
        "\n",
        "# Dictionary for commands\n",
        "dictionary = {\n",
        "    0: \"alexa\",\n",
        "    1: \"facebook\",\n",
        "    2: \"youtube\",\n",
        "    3: \"google\",\n",
        "    4: \"instagram\",\n",
        "    5: \"twitter\",\n",
        "    6: \"spotify\",\n",
        "    7: \"play\",\n",
        "    8: \"rukum\",\n",
        "    9: \"music\",\n",
        "    10: \"search\",\n",
        "    11: \"exit\",\n",
        "    12: \"stop\",\n",
        "    13: \"goodbye\",\n",
        "}\n",
        "\n",
        "name = \"John\"\n",
        "\n",
        "# Initialize text-to-speech engine\n",
        "engine = pyttsx3.init()\n",
        "\n",
        "def talk(words):\n",
        "    \"\"\"Speak the given words.\"\"\"\n",
        "    engine.say(words)\n",
        "    engine.runAndWait()\n",
        "\n",
        "def play_alexa_sound():\n",
        "    \"\"\"Play Alexa's popup sound.\"\"\"\n",
        "    playsound(\"alexa.mp3\")  # Replace with the path to your sound file\n",
        "\n",
        "def listen():\n",
        "    \"\"\"Capture and recognize voice commands.\"\"\"\n",
        "    r = sr.Recognizer()\n",
        "    with sr.Microphone() as source:\n",
        "        play_alexa_sound()  # Play the Alexa sound instead of speaking \"Listening...\"\n",
        "        audio = r.listen(source)\n",
        "        try:\n",
        "            command = r.recognize_google(audio)\n",
        "            print(f\"You said: {command}\")\n",
        "            return command.lower()\n",
        "        except sr.UnknownValueError:\n",
        "            talk(\"Sorry, I did not understand that.\")\n",
        "            return \"\"\n",
        "        except sr.RequestError:\n",
        "            talk(\"Network error. Please check your connection.\")\n",
        "            return \"\"\n",
        "\n",
        "def get_answer(question):\n",
        "    \"\"\"Generate an answer using Hugging Face GPT-Neo model.\"\"\"\n",
        "    try:\n",
        "        result = generator(question, max_length=50, num_return_sequences=1)\n",
        "        answer = result[0][\"generated_text\"]\n",
        "        print(f\"Answer: {answer}\")\n",
        "        return answer\n",
        "    except Exception as e:\n",
        "        print(e)\n",
        "        return \"Sorry, I couldn't process your request.\"\n",
        "\n",
        "def execute_command(command):\n",
        "    \"\"\"Execute tasks based on the command.\"\"\"\n",
        "    try:\n",
        "        # Handling other commands like opening websites\n",
        "        if dictionary[1] in command:\n",
        "            talk(f\"Opening {dictionary[1]}.\")\n",
        "            webbrowser.open(f\"https://www.{dictionary[1]}.com\")\n",
        "        elif dictionary[2] in command:\n",
        "            talk(f\"Opening {dictionary[2]}.\")\n",
        "            webbrowser.open(f\"https://www.{dictionary[2]}.com\")\n",
        "        elif dictionary[3] in command:\n",
        "            talk(f\"Opening {dictionary[3]}.\")\n",
        "            webbrowser.open(f\"https://www.{dictionary[3]}.com\")\n",
        "        elif dictionary[4] in command:\n",
        "            talk(f\"Opening {dictionary[4]}.\")\n",
        "            webbrowser.open(f\"https://www.{dictionary[4]}.com\")\n",
        "        elif dictionary[5] in command:\n",
        "            talk(f\"Opening {dictionary[5]}.\")\n",
        "            webbrowser.open(f\"https://www.{dictionary[5]}.com\")\n",
        "        elif dictionary[6] in command:\n",
        "            talk(f\"Opening {dictionary[6]}.\")\n",
        "            webbrowser.open(f\"https://open.{dictionary[6]}.com/\")\n",
        "        elif dictionary[7] in command:\n",
        "            if dictionary[8] in command or dictionary[9] in command:\n",
        "                talk(\"Playing your favorite song.\")\n",
        "                webbrowser.open(\"https://youtu.be/p7wDS1VV3n4?si=33oc9HcpDTq1LWZK\")\n",
        "            else:\n",
        "                talk(\"Please specify the song you want me to play.\")\n",
        "        elif dictionary[11] in command or dictionary[12] in command or dictionary[13] in command:\n",
        "            talk(\"Goodbye!\")\n",
        "            exit()\n",
        "        else:\n",
        "            # Use Hugging Face model to generate a response for unrecognized commands\n",
        "            answer = get_answer(command)\n",
        "            talk(answer)\n",
        "    except Exception as e:\n",
        "        print(e)\n",
        "        talk(\"Sorry, I am unable to perform this task.\")\n",
        "\n",
        "if __name__ == \"__main__\":\n",
        "    talk(f\"Hello, I am {name}. Say {dictionary[0]} to wake me up.\")\n",
        "    active = False  # State variable to track if the assistant is active\n",
        "\n",
        "    while True:\n",
        "        if not active:\n",
        "            # Waiting for the wake word \"Alexa\"\n",
        "            command = listen()\n",
        "            if dictionary[0] in command:\n",
        "                active = True\n",
        "                talk(\"Yes, I am listening. What do you want me to do?\")\n",
        "        else:\n",
        "            # Assistant is active, listen for commands\n",
        "            user_command = listen()\n",
        "            if user_command:\n",
        "                execute_command(user_command)\n"
      ],
      "metadata": {
        "id": "iwCcb-BPVF3I"
      },
      "execution_count": null,
      "outputs": []
    },
    {
      "cell_type": "code",
      "source": [
        "!pip install playsound\n",
        "\n",
        "\n"
      ],
      "metadata": {
        "id": "o6_nHyc1aKGh",
        "outputId": "022f5ca7-7cae-44a9-d5f0-404396c6f5c1",
        "colab": {
          "base_uri": "https://localhost:8080/"
        }
      },
      "execution_count": 9,
      "outputs": [
        {
          "output_type": "stream",
          "name": "stdout",
          "text": [
            "Collecting playsound\n",
            "  Downloading playsound-1.3.0.tar.gz (7.7 kB)\n",
            "  Preparing metadata (setup.py) ... \u001b[?25l\u001b[?25hdone\n",
            "Building wheels for collected packages: playsound\n",
            "  Building wheel for playsound (setup.py) ... \u001b[?25l\u001b[?25hdone\n",
            "  Created wheel for playsound: filename=playsound-1.3.0-py3-none-any.whl size=7020 sha256=3430917d2e51acad806658dc4913d20133c572e455a84605ee4617ae9e1de3d6\n",
            "  Stored in directory: /root/.cache/pip/wheels/90/89/ed/2d643f4226fc8c7c9156fc28abd8051e2d2c0de37ae51ac45c\n",
            "Successfully built playsound\n",
            "Installing collected packages: playsound\n",
            "Successfully installed playsound-1.3.0\n"
          ]
        }
      ]
    }
  ],
  "metadata": {
    "accelerator": "GPU",
    "colab": {
      "name": "l01c01_introduction_to_colab_and_python.ipynb",
      "provenance": [],
      "include_colab_link": true
    },
    "kernelspec": {
      "display_name": "Python 3",
      "name": "python3"
    }
  },
  "nbformat": 4,
  "nbformat_minor": 0
}